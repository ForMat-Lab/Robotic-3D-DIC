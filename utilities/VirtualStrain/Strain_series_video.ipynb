{
 "cells": [
  {
   "cell_type": "markdown",
   "metadata": {},
   "source": [
    "# Summary of the Code\n",
    "\n",
    "This Python script creates a video from a series of images stored in subfolders. It reads images from a selected subfolder, processes them, and generates a video with specific parameters such as frames per second (fps) and image display interval. The video is saved as an AVI file.\n",
    "\n",
    "### Key Components:\n",
    "\n",
    "1. **Parameters:**\n",
    "   - `base_output_folder`: The base folder containing subfolders with images.\n",
    "   - `image_extension`: The extension of the images to process (e.g., `.jpg`).\n",
    "   - `fps`: Frames per second for the output video.\n",
    "   - `interval_seconds`: The display duration for each image, in seconds (e.g., 10 minutes, represented as `10 * 60` seconds).\n",
    "\n",
    "2. **Subfolder Selection:**\n",
    "   - The script lists all subfolders in the `base_output_folder` and asks the user to choose one for processing.\n",
    "   - If no subfolders are found, it raises an error.\n",
    "\n",
    "3. **Video Setup:**\n",
    "   - The script constructs the output video file path based on the selected subfolder and the defined interval.\n",
    "   - It determines the video resolution by reading the first image in the selected subfolder.\n",
    "\n",
    "4. **Image Processing:**\n",
    "   - It reads all the image files in the selected subfolder and ensures they match the required extension.\n",
    "   - For each image, the script ensures the resolution is consistent with the first image.\n",
    "   - The images are written into the video, with each image repeated for the specified number of frames (based on the `interval_seconds` and `fps`).\n",
    "\n",
    "5. **Video Creation:**\n",
    "   - It uses OpenCV's `VideoWriter` to create and save the video.\n",
    "   - A progress bar (via `tqdm`) is displayed during the image processing.\n",
    "\n",
    "6. **Error Handling:**\n",
    "   - If the script cannot find any images in the subfolder or if an image fails to load, it raises appropriate errors.\n",
    "\n",
    "### Workflow:\n",
    "1. List subfolders and allow user to select one.\n",
    "2. Read image files and validate.\n",
    "3. Set video parameters like resolution, fps, and interval.\n",
    "4. Write each image to the video, repeating it for the specified duration.\n",
    "5. Save the output video and release the video writer.\n",
    "\n",
    "### Example Output:\n",
    "- If a subfolder `subfolder_name` is selected with images, the output video is saved as:\n",
    "\n",
    "output_video_subfolder_name_600s_interval.avi\n",
    "\n",
    "\n",
    "### Dependencies:\n",
    "- `cv2` (OpenCV): For image reading and video writing.\n",
    "- `os`: For directory handling.\n",
    "- `numpy`: For image manipulation (though not directly used in this code).\n",
    "- `tqdm`: For showing a progress bar during the video creation process.\n",
    "\n"
   ]
  },
  {
   "cell_type": "code",
   "execution_count": 2,
   "metadata": {},
   "outputs": [
    {
     "name": "stdout",
     "output_type": "stream",
     "text": [
      "Select a folder to process:\n",
      "1. Lagrange\n",
      "2. output_10_2025-04-08\n",
      "3. output_47_2025-04-02\n",
      "4. output_47_2025-04-08\n",
      "5. output_60_2025-04-08\n",
      "Using images from: output_images\\Lagrange\n",
      "Saving video to: c:\\Users\\Dennis\\desktop\\Pennstate\\Strain Reference\\output_video_Lagrange_600s_interval.avi\n",
      "Image files to process: ['output_images\\\\Lagrange\\\\Lagrange_strain_001.jpg', 'output_images\\\\Lagrange\\\\Lagrange_strain_002.jpg', 'output_images\\\\Lagrange\\\\Lagrange_strain_003.jpg', 'output_images\\\\Lagrange\\\\Lagrange_strain_004.jpg', 'output_images\\\\Lagrange\\\\Lagrange_strain_005.jpg', 'output_images\\\\Lagrange\\\\Lagrange_strain_006.jpg', 'output_images\\\\Lagrange\\\\Lagrange_strain_007.jpg', 'output_images\\\\Lagrange\\\\Lagrange_strain_008.jpg', 'output_images\\\\Lagrange\\\\Lagrange_strain_009.jpg', 'output_images\\\\Lagrange\\\\Lagrange_strain_010.jpg', 'output_images\\\\Lagrange\\\\Lagrange_strain_011.jpg', 'output_images\\\\Lagrange\\\\Lagrange_strain_012.jpg', 'output_images\\\\Lagrange\\\\Lagrange_strain_013.jpg', 'output_images\\\\Lagrange\\\\Lagrange_strain_014.jpg', 'output_images\\\\Lagrange\\\\Lagrange_strain_015.jpg', 'output_images\\\\Lagrange\\\\Lagrange_strain_016.jpg', 'output_images\\\\Lagrange\\\\Lagrange_strain_017.jpg', 'output_images\\\\Lagrange\\\\Lagrange_strain_018.jpg', 'output_images\\\\Lagrange\\\\Lagrange_strain_019.jpg', 'output_images\\\\Lagrange\\\\Lagrange_strain_020.jpg', 'output_images\\\\Lagrange\\\\Lagrange_strain_021.jpg', 'output_images\\\\Lagrange\\\\Lagrange_strain_022.jpg', 'output_images\\\\Lagrange\\\\Lagrange_strain_023.jpg', 'output_images\\\\Lagrange\\\\Lagrange_strain_024.jpg', 'output_images\\\\Lagrange\\\\Lagrange_strain_025.jpg', 'output_images\\\\Lagrange\\\\Lagrange_strain_026.jpg', 'output_images\\\\Lagrange\\\\Lagrange_strain_027.jpg', 'output_images\\\\Lagrange\\\\Lagrange_strain_028.jpg', 'output_images\\\\Lagrange\\\\Lagrange_strain_029.jpg', 'output_images\\\\Lagrange\\\\Lagrange_strain_030.jpg', 'output_images\\\\Lagrange\\\\Lagrange_strain_031.jpg', 'output_images\\\\Lagrange\\\\Lagrange_strain_032.jpg', 'output_images\\\\Lagrange\\\\Lagrange_strain_033.jpg', 'output_images\\\\Lagrange\\\\Lagrange_strain_034.jpg', 'output_images\\\\Lagrange\\\\Lagrange_strain_035.jpg', 'output_images\\\\Lagrange\\\\Lagrange_strain_036.jpg', 'output_images\\\\Lagrange\\\\Lagrange_strain_037.jpg', 'output_images\\\\Lagrange\\\\Lagrange_strain_038.jpg', 'output_images\\\\Lagrange\\\\Lagrange_strain_039.jpg', 'output_images\\\\Lagrange\\\\Lagrange_strain_040.jpg', 'output_images\\\\Lagrange\\\\Lagrange_strain_041.jpg', 'output_images\\\\Lagrange\\\\Lagrange_strain_042.jpg']\n",
      "Each image will be displayed for 600 seconds (600 frames).\n",
      "Video resolution: 1699x1699\n"
     ]
    },
    {
     "name": "stderr",
     "output_type": "stream",
     "text": [
      "Processing Images:   2%|▏         | 1/42 [00:07<04:52,  7.13s/image]"
     ]
    },
    {
     "name": "stdout",
     "output_type": "stream",
     "text": [
      "Added: output_images\\Lagrange\\Lagrange_strain_001.jpg repeated 600 times\n"
     ]
    },
    {
     "name": "stderr",
     "output_type": "stream",
     "text": [
      "Processing Images:   5%|▍         | 2/42 [00:14<04:44,  7.11s/image]"
     ]
    },
    {
     "name": "stdout",
     "output_type": "stream",
     "text": [
      "Added: output_images\\Lagrange\\Lagrange_strain_002.jpg repeated 600 times\n"
     ]
    },
    {
     "name": "stderr",
     "output_type": "stream",
     "text": [
      "Processing Images:   7%|▋         | 3/42 [00:21<04:37,  7.11s/image]"
     ]
    },
    {
     "name": "stdout",
     "output_type": "stream",
     "text": [
      "Added: output_images\\Lagrange\\Lagrange_strain_003.jpg repeated 600 times\n"
     ]
    },
    {
     "name": "stderr",
     "output_type": "stream",
     "text": [
      "Processing Images:  10%|▉         | 4/42 [00:28<04:30,  7.11s/image]"
     ]
    },
    {
     "name": "stdout",
     "output_type": "stream",
     "text": [
      "Added: output_images\\Lagrange\\Lagrange_strain_004.jpg repeated 600 times\n"
     ]
    },
    {
     "name": "stderr",
     "output_type": "stream",
     "text": [
      "Processing Images:  12%|█▏        | 5/42 [00:35<04:23,  7.12s/image]"
     ]
    },
    {
     "name": "stdout",
     "output_type": "stream",
     "text": [
      "Added: output_images\\Lagrange\\Lagrange_strain_005.jpg repeated 600 times\n"
     ]
    },
    {
     "name": "stderr",
     "output_type": "stream",
     "text": [
      "Processing Images:  14%|█▍        | 6/42 [00:42<04:16,  7.13s/image]"
     ]
    },
    {
     "name": "stdout",
     "output_type": "stream",
     "text": [
      "Added: output_images\\Lagrange\\Lagrange_strain_006.jpg repeated 600 times\n"
     ]
    },
    {
     "name": "stderr",
     "output_type": "stream",
     "text": [
      "Processing Images:  17%|█▋        | 7/42 [00:49<04:10,  7.16s/image]"
     ]
    },
    {
     "name": "stdout",
     "output_type": "stream",
     "text": [
      "Added: output_images\\Lagrange\\Lagrange_strain_007.jpg repeated 600 times\n"
     ]
    },
    {
     "name": "stderr",
     "output_type": "stream",
     "text": [
      "Processing Images:  19%|█▉        | 8/42 [00:57<04:04,  7.18s/image]"
     ]
    },
    {
     "name": "stdout",
     "output_type": "stream",
     "text": [
      "Added: output_images\\Lagrange\\Lagrange_strain_008.jpg repeated 600 times\n"
     ]
    },
    {
     "name": "stderr",
     "output_type": "stream",
     "text": [
      "Processing Images:  21%|██▏       | 9/42 [01:04<03:58,  7.22s/image]"
     ]
    },
    {
     "name": "stdout",
     "output_type": "stream",
     "text": [
      "Added: output_images\\Lagrange\\Lagrange_strain_009.jpg repeated 600 times\n"
     ]
    },
    {
     "name": "stderr",
     "output_type": "stream",
     "text": [
      "Processing Images:  24%|██▍       | 10/42 [01:11<03:51,  7.22s/image]"
     ]
    },
    {
     "name": "stdout",
     "output_type": "stream",
     "text": [
      "Added: output_images\\Lagrange\\Lagrange_strain_010.jpg repeated 600 times\n"
     ]
    },
    {
     "name": "stderr",
     "output_type": "stream",
     "text": [
      "Processing Images:  26%|██▌       | 11/42 [01:19<03:44,  7.24s/image]"
     ]
    },
    {
     "name": "stdout",
     "output_type": "stream",
     "text": [
      "Added: output_images\\Lagrange\\Lagrange_strain_011.jpg repeated 600 times\n"
     ]
    },
    {
     "name": "stderr",
     "output_type": "stream",
     "text": [
      "Processing Images:  29%|██▊       | 12/42 [01:26<03:41,  7.40s/image]"
     ]
    },
    {
     "name": "stdout",
     "output_type": "stream",
     "text": [
      "Added: output_images\\Lagrange\\Lagrange_strain_012.jpg repeated 600 times\n"
     ]
    },
    {
     "name": "stderr",
     "output_type": "stream",
     "text": [
      "Processing Images:  29%|██▊       | 12/42 [01:30<03:45,  7.53s/image]\n"
     ]
    },
    {
     "ename": "KeyboardInterrupt",
     "evalue": "",
     "output_type": "error",
     "traceback": [
      "\u001b[1;31m---------------------------------------------------------------------------\u001b[0m",
      "\u001b[1;31mKeyboardInterrupt\u001b[0m                         Traceback (most recent call last)",
      "Cell \u001b[1;32mIn[2], line 86\u001b[0m\n\u001b[0;32m     84\u001b[0m \u001b[38;5;66;03m# Write the image to the video multiple times, based on the number of frames per image\u001b[39;00m\n\u001b[0;32m     85\u001b[0m \u001b[38;5;28;01mfor\u001b[39;00m _ \u001b[38;5;129;01min\u001b[39;00m \u001b[38;5;28mrange\u001b[39m(num_frames_per_image):\n\u001b[1;32m---> 86\u001b[0m     \u001b[43mvideo_writer\u001b[49m\u001b[38;5;241;43m.\u001b[39;49m\u001b[43mwrite\u001b[49m\u001b[43m(\u001b[49m\u001b[43mimage\u001b[49m\u001b[43m)\u001b[49m  \u001b[38;5;66;03m# Write the image as a frame to the video\u001b[39;00m\n\u001b[0;32m     88\u001b[0m \u001b[38;5;66;03m# Print a progress update with the current image and how many times it's been repeated\u001b[39;00m\n\u001b[0;32m     89\u001b[0m tqdm\u001b[38;5;241m.\u001b[39mwrite(\u001b[38;5;124mf\u001b[39m\u001b[38;5;124m\"\u001b[39m\u001b[38;5;124mAdded: \u001b[39m\u001b[38;5;132;01m{\u001b[39;00mimage_file\u001b[38;5;132;01m}\u001b[39;00m\u001b[38;5;124m repeated \u001b[39m\u001b[38;5;132;01m{\u001b[39;00mnum_frames_per_image\u001b[38;5;132;01m}\u001b[39;00m\u001b[38;5;124m times\u001b[39m\u001b[38;5;124m\"\u001b[39m)\n",
      "\u001b[1;31mKeyboardInterrupt\u001b[0m: "
     ]
    }
   ],
   "source": [
    "import cv2\n",
    "import os\n",
    "import numpy as np\n",
    "from tqdm import tqdm  # Progress bar for video creation\n",
    "\n",
    "# Parameters\n",
    "base_output_folder = \"output_images\"  # Folder containing subfolders of images\n",
    "image_extension = \".jpg\"              # Extension of the image files to process (e.g., \".jpg\")\n",
    "fps = 1                               # Frames per second for the output video\n",
    "interval_seconds = 10 * 60            # Interval time in seconds each image is displayed (10 minutes = 600 seconds)\n",
    "\n",
    "# List all subfolders inside the base folder, which might contain the images\n",
    "subfolders = sorted([d for d in os.listdir(base_output_folder) if os.path.isdir(os.path.join(base_output_folder, d))])\n",
    "\n",
    "# If no subfolders are found, raise an error\n",
    "if not subfolders:\n",
    "    raise FileNotFoundError(f\"No subfolders found in {base_output_folder}.\")\n",
    "\n",
    "# Prompt user to select a subfolder from the available options\n",
    "print(\"Select a folder to process:\")\n",
    "for i, subfolder in enumerate(subfolders, start=1):\n",
    "    print(f\"{i}. {subfolder}\")\n",
    "\n",
    "# Loop to allow the user to input a valid subfolder choice\n",
    "while True:\n",
    "    try:\n",
    "        # Ask user to choose a subfolder by entering its number\n",
    "        choice = int(input(f\"Enter the number corresponding to the folder (1-{len(subfolders)}): \"))\n",
    "        if 1 <= choice <= len(subfolders):  # Validate the user input\n",
    "            selected_subfolder = subfolders[choice - 1]  # Set the selected subfolder\n",
    "            break  # Exit the loop when valid input is received\n",
    "        else:\n",
    "            print(f\"Invalid choice. Please enter a number between 1 and {len(subfolders)}.\")\n",
    "    except ValueError:\n",
    "        # Handle invalid input (non-numeric values)\n",
    "        print(\"Invalid input. Please enter a valid number.\")\n",
    "\n",
    "# Build the full path to the selected subfolder containing the images\n",
    "output_folder = os.path.join(base_output_folder, selected_subfolder)\n",
    "print(f\"Using images from: {output_folder}\")\n",
    "\n",
    "# Construct dynamic video filename based on selected folder and interval\n",
    "output_video = os.path.abspath(f\"output_video_{selected_subfolder}_{interval_seconds}s_interval.avi\")\n",
    "print(f\"Saving video to: {output_video}\")\n",
    "\n",
    "# Get a sorted list of image files (with the specified extension) from the selected subfolder\n",
    "image_files = sorted([os.path.join(output_folder, f) for f in os.listdir(output_folder) if f.endswith(image_extension)])\n",
    "\n",
    "# If no image files are found, raise an error\n",
    "if not image_files:\n",
    "    raise FileNotFoundError(f\"No images with extension '{image_extension}' found in {output_folder}.\")\n",
    "print(\"Image files to process:\", image_files)\n",
    "\n",
    "# Calculate how many times each image should be repeated based on the FPS and interval\n",
    "num_frames_per_image = fps * interval_seconds\n",
    "print(f\"Each image will be displayed for {interval_seconds} seconds ({num_frames_per_image} frames).\")\n",
    "\n",
    "# Read the first image to determine the resolution (height and width) of the video\n",
    "sample_image = cv2.imread(image_files[0])\n",
    "if sample_image is None:\n",
    "    raise FileNotFoundError(\"Could not read the first image to determine resolution.\")\n",
    "\n",
    "# Extract the resolution (height and width) from the first image\n",
    "frame_height, frame_width = sample_image.shape[:2]\n",
    "print(f\"Video resolution: {frame_width}x{frame_height}\")\n",
    "\n",
    "# Define the codec for the video and initialize the VideoWriter object\n",
    "fourcc = cv2.VideoWriter_fourcc(*'XVID')  # 'XVID' is the codec for AVI format\n",
    "video_writer = cv2.VideoWriter(output_video, fourcc, fps, (frame_width, frame_height))\n",
    "\n",
    "# Process each image and write it to the video\n",
    "try:\n",
    "    # Iterate through each image in the image files list\n",
    "    for image_file in tqdm(image_files, desc=\"Processing Images\", unit=\"image\"):\n",
    "        image = cv2.imread(image_file)  # Read the current image\n",
    "        if image is None:  # If the image cannot be read, skip to the next image\n",
    "            print(f\"Failed to read image: {image_file}\")\n",
    "            continue\n",
    "\n",
    "        # Resize the image to match the resolution of the first image, if needed\n",
    "        if (image.shape[1] != frame_width) or (image.shape[0] != frame_height):\n",
    "            image = cv2.resize(image, (frame_width, frame_height), interpolation=cv2.INTER_AREA)\n",
    "\n",
    "        # Write the image to the video multiple times, based on the number of frames per image\n",
    "        for _ in range(num_frames_per_image):\n",
    "            video_writer.write(image)  # Write the image as a frame to the video\n",
    "\n",
    "        # Print a progress update with the current image and how many times it's been repeated\n",
    "        tqdm.write(f\"Added: {image_file} repeated {num_frames_per_image} times\")\n",
    "\n",
    "    # Once all images are processed, print the success message\n",
    "    print(f\"Video saved as {output_video}.\")\n",
    "finally:\n",
    "    # Release the video writer to finalize and save the video file\n",
    "    video_writer.release()\n"
   ]
  }
 ],
 "metadata": {
  "kernelspec": {
   "display_name": ".venv",
   "language": "python",
   "name": "python3"
  },
  "language_info": {
   "codemirror_mode": {
    "name": "ipython",
    "version": 3
   },
   "file_extension": ".py",
   "mimetype": "text/x-python",
   "name": "python",
   "nbconvert_exporter": "python",
   "pygments_lexer": "ipython3",
   "version": "3.11.3"
  }
 },
 "nbformat": 4,
 "nbformat_minor": 2
}
